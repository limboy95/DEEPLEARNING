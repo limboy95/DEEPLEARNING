{
 "cells": [
  {
   "cell_type": "code",
   "execution_count": 1,
   "metadata": {
    "colab": {
     "base_uri": "https://localhost:8080/",
     "height": 652,
     "resources": {
      "http://localhost:8080/nbextensions/google.colab/files.js": {
       "data": "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",
       "headers": [
        [
         "content-type",
         "application/javascript"
        ]
       ],
       "ok": true,
       "status": 200,
       "status_text": ""
      }
     }
    },
    "colab_type": "code",
    "id": "VKQ0qmCIyYX6",
    "outputId": "aa91bcf0-4290-4064-df2a-f8f107c4a057"
   },
   "outputs": [
    {
     "data": {
      "text/html": [
       "<div>\n",
       "<style scoped>\n",
       "    .dataframe tbody tr th:only-of-type {\n",
       "        vertical-align: middle;\n",
       "    }\n",
       "\n",
       "    .dataframe tbody tr th {\n",
       "        vertical-align: top;\n",
       "    }\n",
       "\n",
       "    .dataframe thead th {\n",
       "        text-align: right;\n",
       "    }\n",
       "</style>\n",
       "<table border=\"1\" class=\"dataframe\">\n",
       "  <thead>\n",
       "    <tr style=\"text-align: right;\">\n",
       "      <th></th>\n",
       "      <th>main_category</th>\n",
       "      <th>currency</th>\n",
       "      <th>deadline</th>\n",
       "      <th>launched</th>\n",
       "      <th>state</th>\n",
       "      <th>backers</th>\n",
       "      <th>country</th>\n",
       "      <th>usd pledged</th>\n",
       "      <th>usd_pledged_real</th>\n",
       "      <th>usd_goal_real</th>\n",
       "    </tr>\n",
       "  </thead>\n",
       "  <tbody>\n",
       "    <tr>\n",
       "      <th>0</th>\n",
       "      <td>Publishing</td>\n",
       "      <td>GBP</td>\n",
       "      <td>2015-10-09</td>\n",
       "      <td>2015-08-11 12:12:28</td>\n",
       "      <td>failed</td>\n",
       "      <td>0</td>\n",
       "      <td>GB</td>\n",
       "      <td>0.00</td>\n",
       "      <td>0.00</td>\n",
       "      <td>1533.95</td>\n",
       "    </tr>\n",
       "    <tr>\n",
       "      <th>1</th>\n",
       "      <td>Film &amp; Video</td>\n",
       "      <td>USD</td>\n",
       "      <td>2017-11-01</td>\n",
       "      <td>2017-09-02 04:43:57</td>\n",
       "      <td>failed</td>\n",
       "      <td>15</td>\n",
       "      <td>US</td>\n",
       "      <td>100.00</td>\n",
       "      <td>2421.00</td>\n",
       "      <td>30000.00</td>\n",
       "    </tr>\n",
       "    <tr>\n",
       "      <th>2</th>\n",
       "      <td>Film &amp; Video</td>\n",
       "      <td>USD</td>\n",
       "      <td>2013-02-26</td>\n",
       "      <td>2013-01-12 00:20:50</td>\n",
       "      <td>failed</td>\n",
       "      <td>3</td>\n",
       "      <td>US</td>\n",
       "      <td>220.00</td>\n",
       "      <td>220.00</td>\n",
       "      <td>45000.00</td>\n",
       "    </tr>\n",
       "    <tr>\n",
       "      <th>3</th>\n",
       "      <td>Music</td>\n",
       "      <td>USD</td>\n",
       "      <td>2012-04-16</td>\n",
       "      <td>2012-03-17 03:24:11</td>\n",
       "      <td>failed</td>\n",
       "      <td>1</td>\n",
       "      <td>US</td>\n",
       "      <td>1.00</td>\n",
       "      <td>1.00</td>\n",
       "      <td>5000.00</td>\n",
       "    </tr>\n",
       "    <tr>\n",
       "      <th>4</th>\n",
       "      <td>Film &amp; Video</td>\n",
       "      <td>USD</td>\n",
       "      <td>2015-08-29</td>\n",
       "      <td>2015-07-04 08:35:03</td>\n",
       "      <td>canceled</td>\n",
       "      <td>14</td>\n",
       "      <td>US</td>\n",
       "      <td>1283.00</td>\n",
       "      <td>1283.00</td>\n",
       "      <td>19500.00</td>\n",
       "    </tr>\n",
       "    <tr>\n",
       "      <th>5</th>\n",
       "      <td>Food</td>\n",
       "      <td>USD</td>\n",
       "      <td>2016-04-01</td>\n",
       "      <td>2016-02-26 13:38:27</td>\n",
       "      <td>successful</td>\n",
       "      <td>224</td>\n",
       "      <td>US</td>\n",
       "      <td>52375.00</td>\n",
       "      <td>52375.00</td>\n",
       "      <td>50000.00</td>\n",
       "    </tr>\n",
       "    <tr>\n",
       "      <th>6</th>\n",
       "      <td>Food</td>\n",
       "      <td>USD</td>\n",
       "      <td>2014-12-21</td>\n",
       "      <td>2014-12-01 18:30:44</td>\n",
       "      <td>successful</td>\n",
       "      <td>16</td>\n",
       "      <td>US</td>\n",
       "      <td>1205.00</td>\n",
       "      <td>1205.00</td>\n",
       "      <td>1000.00</td>\n",
       "    </tr>\n",
       "    <tr>\n",
       "      <th>7</th>\n",
       "      <td>Food</td>\n",
       "      <td>USD</td>\n",
       "      <td>2016-03-17</td>\n",
       "      <td>2016-02-01 20:05:12</td>\n",
       "      <td>failed</td>\n",
       "      <td>40</td>\n",
       "      <td>US</td>\n",
       "      <td>453.00</td>\n",
       "      <td>453.00</td>\n",
       "      <td>25000.00</td>\n",
       "    </tr>\n",
       "    <tr>\n",
       "      <th>8</th>\n",
       "      <td>Design</td>\n",
       "      <td>USD</td>\n",
       "      <td>2014-05-29</td>\n",
       "      <td>2014-04-24 18:14:43</td>\n",
       "      <td>canceled</td>\n",
       "      <td>58</td>\n",
       "      <td>US</td>\n",
       "      <td>8233.00</td>\n",
       "      <td>8233.00</td>\n",
       "      <td>125000.00</td>\n",
       "    </tr>\n",
       "    <tr>\n",
       "      <th>9</th>\n",
       "      <td>Film &amp; Video</td>\n",
       "      <td>USD</td>\n",
       "      <td>2014-08-10</td>\n",
       "      <td>2014-07-11 21:55:48</td>\n",
       "      <td>canceled</td>\n",
       "      <td>43</td>\n",
       "      <td>US</td>\n",
       "      <td>6240.57</td>\n",
       "      <td>6240.57</td>\n",
       "      <td>65000.00</td>\n",
       "    </tr>\n",
       "    <tr>\n",
       "      <th>10</th>\n",
       "      <td>Publishing</td>\n",
       "      <td>CAD</td>\n",
       "      <td>2013-10-09</td>\n",
       "      <td>2013-09-09 18:19:37</td>\n",
       "      <td>failed</td>\n",
       "      <td>0</td>\n",
       "      <td>CA</td>\n",
       "      <td>0.00</td>\n",
       "      <td>0.00</td>\n",
       "      <td>2406.39</td>\n",
       "    </tr>\n",
       "    <tr>\n",
       "      <th>11</th>\n",
       "      <td>Music</td>\n",
       "      <td>USD</td>\n",
       "      <td>2013-04-08</td>\n",
       "      <td>2013-03-09 06:42:58</td>\n",
       "      <td>successful</td>\n",
       "      <td>100</td>\n",
       "      <td>US</td>\n",
       "      <td>12700.00</td>\n",
       "      <td>12700.00</td>\n",
       "      <td>12500.00</td>\n",
       "    </tr>\n",
       "    <tr>\n",
       "      <th>12</th>\n",
       "      <td>Crafts</td>\n",
       "      <td>USD</td>\n",
       "      <td>2014-10-02</td>\n",
       "      <td>2014-09-02 17:11:50</td>\n",
       "      <td>failed</td>\n",
       "      <td>0</td>\n",
       "      <td>US</td>\n",
       "      <td>0.00</td>\n",
       "      <td>0.00</td>\n",
       "      <td>5000.00</td>\n",
       "    </tr>\n",
       "    <tr>\n",
       "      <th>13</th>\n",
       "      <td>Games</td>\n",
       "      <td>USD</td>\n",
       "      <td>2016-03-25</td>\n",
       "      <td>2016-02-09 23:01:12</td>\n",
       "      <td>failed</td>\n",
       "      <td>0</td>\n",
       "      <td>US</td>\n",
       "      <td>0.00</td>\n",
       "      <td>0.00</td>\n",
       "      <td>200000.00</td>\n",
       "    </tr>\n",
       "    <tr>\n",
       "      <th>14</th>\n",
       "      <td>Games</td>\n",
       "      <td>GBP</td>\n",
       "      <td>2017-05-03</td>\n",
       "      <td>2017-04-05 19:44:18</td>\n",
       "      <td>successful</td>\n",
       "      <td>761</td>\n",
       "      <td>GB</td>\n",
       "      <td>57763.78</td>\n",
       "      <td>121857.33</td>\n",
       "      <td>6469.73</td>\n",
       "    </tr>\n",
       "    <tr>\n",
       "      <th>15</th>\n",
       "      <td>Design</td>\n",
       "      <td>USD</td>\n",
       "      <td>2015-02-28</td>\n",
       "      <td>2015-01-29 02:10:53</td>\n",
       "      <td>failed</td>\n",
       "      <td>11</td>\n",
       "      <td>US</td>\n",
       "      <td>664.00</td>\n",
       "      <td>664.00</td>\n",
       "      <td>2500.00</td>\n",
       "    </tr>\n",
       "    <tr>\n",
       "      <th>16</th>\n",
       "      <td>Comics</td>\n",
       "      <td>USD</td>\n",
       "      <td>2014-11-08</td>\n",
       "      <td>2014-10-09 22:27:52</td>\n",
       "      <td>failed</td>\n",
       "      <td>16</td>\n",
       "      <td>US</td>\n",
       "      <td>395.00</td>\n",
       "      <td>395.00</td>\n",
       "      <td>1500.00</td>\n",
       "    </tr>\n",
       "    <tr>\n",
       "      <th>17</th>\n",
       "      <td>Publishing</td>\n",
       "      <td>USD</td>\n",
       "      <td>2015-05-10</td>\n",
       "      <td>2015-04-10 21:20:54</td>\n",
       "      <td>failed</td>\n",
       "      <td>20</td>\n",
       "      <td>US</td>\n",
       "      <td>789.00</td>\n",
       "      <td>789.00</td>\n",
       "      <td>3000.00</td>\n",
       "    </tr>\n",
       "    <tr>\n",
       "      <th>18</th>\n",
       "      <td>Music</td>\n",
       "      <td>USD</td>\n",
       "      <td>2012-08-17</td>\n",
       "      <td>2012-08-02 14:11:32</td>\n",
       "      <td>successful</td>\n",
       "      <td>7</td>\n",
       "      <td>US</td>\n",
       "      <td>250.00</td>\n",
       "      <td>250.00</td>\n",
       "      <td>250.00</td>\n",
       "    </tr>\n",
       "    <tr>\n",
       "      <th>19</th>\n",
       "      <td>Food</td>\n",
       "      <td>USD</td>\n",
       "      <td>2012-06-02</td>\n",
       "      <td>2012-05-03 17:24:32</td>\n",
       "      <td>failed</td>\n",
       "      <td>40</td>\n",
       "      <td>US</td>\n",
       "      <td>1781.00</td>\n",
       "      <td>1781.00</td>\n",
       "      <td>5000.00</td>\n",
       "    </tr>\n",
       "  </tbody>\n",
       "</table>\n",
       "</div>"
      ],
      "text/plain": [
       "   main_category currency    deadline             launched       state  \\\n",
       "0     Publishing      GBP  2015-10-09  2015-08-11 12:12:28      failed   \n",
       "1   Film & Video      USD  2017-11-01  2017-09-02 04:43:57      failed   \n",
       "2   Film & Video      USD  2013-02-26  2013-01-12 00:20:50      failed   \n",
       "3          Music      USD  2012-04-16  2012-03-17 03:24:11      failed   \n",
       "4   Film & Video      USD  2015-08-29  2015-07-04 08:35:03    canceled   \n",
       "5           Food      USD  2016-04-01  2016-02-26 13:38:27  successful   \n",
       "6           Food      USD  2014-12-21  2014-12-01 18:30:44  successful   \n",
       "7           Food      USD  2016-03-17  2016-02-01 20:05:12      failed   \n",
       "8         Design      USD  2014-05-29  2014-04-24 18:14:43    canceled   \n",
       "9   Film & Video      USD  2014-08-10  2014-07-11 21:55:48    canceled   \n",
       "10    Publishing      CAD  2013-10-09  2013-09-09 18:19:37      failed   \n",
       "11         Music      USD  2013-04-08  2013-03-09 06:42:58  successful   \n",
       "12        Crafts      USD  2014-10-02  2014-09-02 17:11:50      failed   \n",
       "13         Games      USD  2016-03-25  2016-02-09 23:01:12      failed   \n",
       "14         Games      GBP  2017-05-03  2017-04-05 19:44:18  successful   \n",
       "15        Design      USD  2015-02-28  2015-01-29 02:10:53      failed   \n",
       "16        Comics      USD  2014-11-08  2014-10-09 22:27:52      failed   \n",
       "17    Publishing      USD  2015-05-10  2015-04-10 21:20:54      failed   \n",
       "18         Music      USD  2012-08-17  2012-08-02 14:11:32  successful   \n",
       "19          Food      USD  2012-06-02  2012-05-03 17:24:32      failed   \n",
       "\n",
       "    backers country  usd pledged  usd_pledged_real  usd_goal_real  \n",
       "0         0      GB         0.00              0.00        1533.95  \n",
       "1        15      US       100.00           2421.00       30000.00  \n",
       "2         3      US       220.00            220.00       45000.00  \n",
       "3         1      US         1.00              1.00        5000.00  \n",
       "4        14      US      1283.00           1283.00       19500.00  \n",
       "5       224      US     52375.00          52375.00       50000.00  \n",
       "6        16      US      1205.00           1205.00        1000.00  \n",
       "7        40      US       453.00            453.00       25000.00  \n",
       "8        58      US      8233.00           8233.00      125000.00  \n",
       "9        43      US      6240.57           6240.57       65000.00  \n",
       "10        0      CA         0.00              0.00        2406.39  \n",
       "11      100      US     12700.00          12700.00       12500.00  \n",
       "12        0      US         0.00              0.00        5000.00  \n",
       "13        0      US         0.00              0.00      200000.00  \n",
       "14      761      GB     57763.78         121857.33        6469.73  \n",
       "15       11      US       664.00            664.00        2500.00  \n",
       "16       16      US       395.00            395.00        1500.00  \n",
       "17       20      US       789.00            789.00        3000.00  \n",
       "18        7      US       250.00            250.00         250.00  \n",
       "19       40      US      1781.00           1781.00        5000.00  "
      ]
     },
     "metadata": {},
     "output_type": "display_data"
    }
   ],
   "source": [
    "import pandas as pd\n",
    "ks2018 = pd.read_csv(\"ks-projects-201801.csv\")\n",
    "ks2018= ks2018.drop(['ID', 'name', 'category', \"goal\", \"pledged\"], axis=1)\n",
    "display(ks2018[:20])\n"
   ]
  },
  {
   "cell_type": "markdown",
   "metadata": {
    "colab_type": "text",
    "id": "X98GgWrHUMtd"
   },
   "source": [
    "#preprocessing"
   ]
  },
  {
   "cell_type": "code",
   "execution_count": 2,
   "metadata": {
    "colab": {},
    "colab_type": "code",
    "id": "TCUqEu_eyYYH"
   },
   "outputs": [],
   "source": [
    "ks2018['deadline'] = pd.to_datetime(ks2018['deadline'])\n",
    "ks2018['launched'] = pd.to_datetime(ks2018['launched'])\n",
    "ks2018.dtypes\n",
    "ks2018['deadline_launched'] = ks2018['deadline'] - ks2018['launched']\n",
    "ks2018['deadline_launched']= ks2018[\"deadline_launched\"].dt.days"
   ]
  },
  {
   "cell_type": "code",
   "execution_count": 3,
   "metadata": {
    "colab": {},
    "colab_type": "code",
    "id": "ImxSld-fTPj0"
   },
   "outputs": [],
   "source": [
    "ks2018= ks2018.drop(['launched', 'deadline', \"usd_pledged_real\"], axis=1)\n",
    "ks2018 =ks2018[ks2018.state != \"live\"]\n",
    "ks2018 =ks2018[ks2018.state != \"undefined\"]\n",
    "ks2018 =ks2018[ks2018.state != \"suspended\"]"
   ]
  },
  {
   "cell_type": "code",
   "execution_count": 4,
   "metadata": {
    "colab": {},
    "colab_type": "code",
    "id": "4dI1881DyYYP"
   },
   "outputs": [],
   "source": [
    "cleanup_nums = {\"state\":     {'canceled':1, 'failed':2, 'successful':3}}\n",
    "ks2018.replace(cleanup_nums, inplace=True)"
   ]
  },
  {
   "cell_type": "code",
   "execution_count": 5,
   "metadata": {
    "colab": {},
    "colab_type": "code",
    "id": "3zZEsnkHyYYV"
   },
   "outputs": [],
   "source": [
    "cleanup_nums = {\"main_category\":     {'Art':1, 'Comics':2, 'Crafts':3, 'Dance':4, 'Design':5, 'Fashion':6, \n",
    "                                      'Film & Video':7,'Food':8, 'Games':9, 'Journalism':10, 'Music':11, \n",
    "                                      'Photography':12, 'Publishing':13,'Technology':14, 'Theater':15}}\n",
    "ks2018.replace(cleanup_nums, inplace=True)"
   ]
  },
  {
   "cell_type": "code",
   "execution_count": 6,
   "metadata": {
    "colab": {},
    "colab_type": "code",
    "id": "0fm2LxVAyYYd"
   },
   "outputs": [],
   "source": [
    "cleanup_nums = {\"currency\":     {'AUD':1, 'CAD':2, 'CHF':3, 'DKK':4, 'EUR':5, 'GBP':6, 'HKD':7, 'JPY':8, 'MXN':9,\n",
    "                                 'NOK':10, 'NZD':11, 'SEK':12, 'SGD':13, 'USD':14}}\n",
    "ks2018.replace(cleanup_nums, inplace=True)"
   ]
  },
  {
   "cell_type": "code",
   "execution_count": 7,
   "metadata": {
    "colab": {},
    "colab_type": "code",
    "id": "LbQipzbWyYYl"
   },
   "outputs": [],
   "source": [
    "cleanup_nums = {\"country\":     {'AT':1, 'AU':2, 'BE':3, 'CA':4, 'CH':5, 'DE':6, 'DK':7, 'ES':8, 'FR':9, 'GB':10, \n",
    "                                'HK':11,'IE':12, 'IT':13, 'JP':14, 'LU':15, 'MX':16, 'N,0\"':17, 'NL':18, 'NO':19, \n",
    "                                'NZ':20,'SE':21, 'SG':22, 'US':23}}\n",
    "ks2018.replace(cleanup_nums, inplace=True)"
   ]
  },
  {
   "cell_type": "code",
   "execution_count": 8,
   "metadata": {
    "colab": {},
    "colab_type": "code",
    "id": "Idf21dwoyYYq"
   },
   "outputs": [
    {
     "name": "stdout",
     "output_type": "stream",
     "text": [
      "       main_category  currency  backers  country  usd pledged  usd_goal_real  \\\n",
      "state                                                                          \n",
      "1              38779     38779    38779    38779        38757          38779   \n",
      "2             197719    197719   197719   197719       197614         197719   \n",
      "3             133956    133956   133956   133956       133851         133956   \n",
      "\n",
      "       deadline_launched  \n",
      "state                     \n",
      "1                  38779  \n",
      "2                 197719  \n",
      "3                 133956  \n",
      "[2 1 3]\n"
     ]
    }
   ],
   "source": [
    "print(ks2018.groupby([\"state\"]).count())\n",
    "print(ks2018['state'].unique())"
   ]
  },
  {
   "cell_type": "code",
   "execution_count": 9,
   "metadata": {
    "colab": {
     "base_uri": "https://localhost:8080/",
     "height": 52
    },
    "colab_type": "code",
    "id": "P_CA3k0iyYYz",
    "outputId": "effe5556-a841-423e-9c45-79f05d632340"
   },
   "outputs": [
    {
     "name": "stderr",
     "output_type": "stream",
     "text": [
      "Using TensorFlow backend.\n"
     ]
    },
    {
     "data": {
      "text/plain": [
       "'2.2.4'"
      ]
     },
     "execution_count": 9,
     "metadata": {},
     "output_type": "execute_result"
    }
   ],
   "source": [
    "import keras\n",
    "keras.__version__\n"
   ]
  },
  {
   "cell_type": "code",
   "execution_count": 10,
   "metadata": {
    "colab": {
     "base_uri": "https://localhost:8080/",
     "height": 173
    },
    "colab_type": "code",
    "id": "EqIKlRwKDsQR",
    "outputId": "15edf34c-8f91-4daa-dd07-f8a99850879f"
   },
   "outputs": [
    {
     "data": {
      "text/html": [
       "<div>\n",
       "<style scoped>\n",
       "    .dataframe tbody tr th:only-of-type {\n",
       "        vertical-align: middle;\n",
       "    }\n",
       "\n",
       "    .dataframe tbody tr th {\n",
       "        vertical-align: top;\n",
       "    }\n",
       "\n",
       "    .dataframe thead th {\n",
       "        text-align: right;\n",
       "    }\n",
       "</style>\n",
       "<table border=\"1\" class=\"dataframe\">\n",
       "  <thead>\n",
       "    <tr style=\"text-align: right;\">\n",
       "      <th></th>\n",
       "      <th>usd pledged</th>\n",
       "      <th>usd_goal_real</th>\n",
       "      <th>deadline_launched</th>\n",
       "    </tr>\n",
       "  </thead>\n",
       "  <tbody>\n",
       "    <tr>\n",
       "      <th>mean</th>\n",
       "      <td>7076.437966</td>\n",
       "      <td>45076.376313</td>\n",
       "      <td>33.406512</td>\n",
       "    </tr>\n",
       "    <tr>\n",
       "      <th>std</th>\n",
       "      <td>78822.582579</td>\n",
       "      <td>1128264.968841</td>\n",
       "      <td>60.689139</td>\n",
       "    </tr>\n",
       "    <tr>\n",
       "      <th>min</th>\n",
       "      <td>0.000000</td>\n",
       "      <td>0.010000</td>\n",
       "      <td>0.000000</td>\n",
       "    </tr>\n",
       "    <tr>\n",
       "      <th>max</th>\n",
       "      <td>20338986.270000</td>\n",
       "      <td>166361390.710000</td>\n",
       "      <td>14866.000000</td>\n",
       "    </tr>\n",
       "  </tbody>\n",
       "</table>\n",
       "</div>"
      ],
      "text/plain": [
       "         usd pledged    usd_goal_real  deadline_launched\n",
       "mean     7076.437966     45076.376313          33.406512\n",
       "std     78822.582579   1128264.968841          60.689139\n",
       "min         0.000000         0.010000           0.000000\n",
       "max  20338986.270000 166361390.710000       14866.000000"
      ]
     },
     "execution_count": 10,
     "metadata": {},
     "output_type": "execute_result"
    }
   ],
   "source": [
    "pd.set_option('float_format', '{:f}'.format)\n",
    "ks2018[[\"usd pledged\", \"usd_goal_real\", \"deadline_launched\"]].describe().loc[['mean', \"std\", \"min\", \"max\"]]"
   ]
  },
  {
   "cell_type": "code",
   "execution_count": 11,
   "metadata": {
    "colab": {
     "base_uri": "https://localhost:8080/",
     "height": 51
    },
    "colab_type": "code",
    "id": "9coRlHVryYY5",
    "outputId": "3327b5d0-653e-489b-9947-cb7c6b7f9061"
   },
   "outputs": [
    {
     "name": "stdout",
     "output_type": "stream",
     "text": [
      "[3.18431797 0.62454628 0.92183005]\n",
      "[1 2 3]\n"
     ]
    }
   ],
   "source": [
    "## x en y split met nummers niet one hot\n",
    "from sklearn.model_selection import train_test_split\n",
    "from sklearn.utils import class_weight\n",
    "import numpy as np\n",
    "import numpy\n",
    "# Inputs\n",
    "X = numpy.array(ks2018.loc[:, ks2018.columns != 'state'], dtype='int64')\n",
    "y = numpy.array(ks2018['state'].values, dtype='int64')\n",
    "class_weights = class_weight.compute_class_weight('balanced',\n",
    "                                                 numpy.unique(y),\n",
    "                                                 y)\n",
    "print(class_weights)\n",
    "print(np.unique(y))"
   ]
  },
  {
   "cell_type": "code",
   "execution_count": 12,
   "metadata": {
    "colab": {
     "base_uri": "https://localhost:8080/",
     "height": 187
    },
    "colab_type": "code",
    "id": "JU1Q6p7-afLi",
    "outputId": "1860277e-0661-4066-c4e0-57abfaacdc3d"
   },
   "outputs": [
    {
     "name": "stdout",
     "output_type": "stream",
     "text": [
      "Before OverSampling, counts of label '1': 38779\n",
      "Before OverSampling, counts of label '2': 197719 \n",
      "Before OverSampling, counts of label '3': 133956 \n",
      "\n",
      "After OverSampling, the shape of X: (593157, 7)\n",
      "After OverSampling, the shape of y: (593157,) \n",
      "\n",
      "After OverSampling, counts of label '1': 197719\n",
      "After OverSampling, counts of label '2': 197719\n",
      "After OverSampling, counts of label '2': 197719\n"
     ]
    }
   ],
   "source": [
    "from imblearn.over_sampling import SMOTE\n",
    "\n",
    "print(\"Before OverSampling, counts of label '1': {}\".format(sum(y==1)))\n",
    "print(\"Before OverSampling, counts of label '2': {} \".format(sum(y==2)))\n",
    "print(\"Before OverSampling, counts of label '3': {} \\n\".format(sum(y==3)))\n",
    "\n",
    "sm = SMOTE(random_state=4)\n",
    "X_res, y_res = sm.fit_sample(X, y.ravel())\n",
    "\n",
    "print('After OverSampling, the shape of X: {}'.format(X_res.shape))\n",
    "print('After OverSampling, the shape of y: {} \\n'.format(y_res.shape))\n",
    "\n",
    "print(\"After OverSampling, counts of label '1': {}\".format(sum(y_res==1)))\n",
    "print(\"After OverSampling, counts of label '2': {}\".format(sum(y_res==2)))\n",
    "print(\"After OverSampling, counts of label '2': {}\".format(sum(y_res==3)))\n",
    "\n",
    "X = X_res\n",
    "y = y_res"
   ]
  },
  {
   "cell_type": "code",
   "execution_count": 13,
   "metadata": {
    "colab": {
     "base_uri": "https://localhost:8080/",
     "height": 136
    },
    "colab_type": "code",
    "id": "mxd4nhUKyYZE",
    "outputId": "09b0171f-86ed-4366-9d0c-7dc1bfe7da3d"
   },
   "outputs": [
    {
     "name": "stdout",
     "output_type": "stream",
     "text": [
      "[[0 1 0]\n",
      " [0 1 0]\n",
      " [0 1 0]\n",
      " ...\n",
      " [0 0 1]\n",
      " [0 0 1]\n",
      " [0 0 1]]\n"
     ]
    }
   ],
   "source": [
    "from keras.utils import to_categorical\n",
    "# one hot encoder\n",
    "from sklearn.preprocessing import LabelBinarizer\n",
    "onehot = LabelBinarizer()\n",
    "y = onehot.fit_transform(y)\n",
    "\n",
    "print(y)\n"
   ]
  },
  {
   "cell_type": "code",
   "execution_count": 14,
   "metadata": {
    "colab": {
     "base_uri": "https://localhost:8080/",
     "height": 51
    },
    "colab_type": "code",
    "id": "QIRFfyAfFW_G",
    "outputId": "1d3d398a-68ef-48f1-bdf9-085a0f787d0c"
   },
   "outputs": [
    {
     "name": "stdout",
     "output_type": "stream",
     "text": [
      "<class 'numpy.ndarray'>\n",
      "(593157, 7)\n"
     ]
    }
   ],
   "source": [
    "######  feature scaling robust\n",
    "from sklearn.preprocessing import RobustScaler\n",
    "scaler = RobustScaler()\n",
    "print(type(X))\n",
    "X = scaler.fit_transform(X)\n",
    "print(X.shape)"
   ]
  },
  {
   "cell_type": "code",
   "execution_count": 15,
   "metadata": {
    "colab": {
     "base_uri": "https://localhost:8080/",
     "height": 85
    },
    "colab_type": "code",
    "id": "dnr4Hdz30owI",
    "outputId": "9051cfb9-fde3-4939-8fed-7ea4a54247de"
   },
   "outputs": [
    {
     "name": "stdout",
     "output_type": "stream",
     "text": [
      "(395438, 7)\n",
      "(395438, 3)\n",
      "(197719, 7)\n",
      "(197719, 3)\n"
     ]
    }
   ],
   "source": [
    "## split\n",
    "import numpy as np\n",
    "X_train, X_test, y_train, y_test = train_test_split(X, y, test_size=1/3, random_state=999)\n",
    "print(X_train.shape)\n",
    "print(y_train.shape)\n",
    "print(X_test.shape)\n",
    "print(y_test.shape)"
   ]
  },
  {
   "cell_type": "markdown",
   "metadata": {
    "colab_type": "text",
    "id": "2yuZZ70uTqRb"
   },
   "source": [
    "#setting up Confusion matrix\n"
   ]
  },
  {
   "cell_type": "code",
   "execution_count": 16,
   "metadata": {
    "colab": {
     "base_uri": "https://localhost:8080/",
     "height": 34
    },
    "colab_type": "code",
    "id": "j1MwP_WJS35t",
    "outputId": "5414112a-515f-4e95-c917-949500f0e4a1"
   },
   "outputs": [
    {
     "name": "stdout",
     "output_type": "stream",
     "text": [
      "Automatically created module for IPython interactive environment\n"
     ]
    }
   ],
   "source": [
    "print(__doc__)\n",
    "\n",
    "import numpy as np\n",
    "import matplotlib.pyplot as plt\n",
    "\n",
    "from sklearn import svm, datasets\n",
    "from sklearn.model_selection import train_test_split\n",
    "from sklearn.metrics import confusion_matrix\n",
    "from sklearn.utils.multiclass import unique_labels\n",
    "\n",
    "class_names = ['canceled', 'successful', 'failed']\n",
    "\n",
    "\n",
    "\n",
    "def plot_confusion_matrix(y_true, y_pred, classes,\n",
    "                          normalize=False,\n",
    "                          title=None,\n",
    "                          cmap=plt.cm.Blues):\n",
    "    \"\"\"\n",
    "    This function prints and plots the confusion matrix.\n",
    "    Normalization can be applied by setting `normalize=True`.\n",
    "    \"\"\"\n",
    "    if not title:\n",
    "        if normalize:\n",
    "            title = 'Normalized confusion matrix'\n",
    "        else:\n",
    "            title = 'Confusion matrix, without normalization'\n",
    "\n",
    "    # Compute confusion matrix\n",
    "    cm = confusion_matrix(y_test_non_category, y_pred)\n",
    "    # Only use the labels that appear in the data\n",
    "    #classes = classes[unique_labels(y_true, y_pred)]\n",
    "    if normalize:\n",
    "        cm = cm.astype('float') / cm.sum(axis=1)[:, np.newaxis]\n",
    "        print(\"Normalized confusion matrix\")\n",
    "    else:\n",
    "        print('Confusion matrix, without normalization')\n",
    "\n",
    "    print(cm)\n",
    "\n",
    "    fig, ax = plt.subplots()\n",
    "    im = ax.imshow(cm, interpolation='nearest', cmap=cmap)\n",
    "    ax.figure.colorbar(im, ax=ax)\n",
    "    # We want to show all ticks...\n",
    "    ax.set(xticks=np.arange(cm.shape[1]),\n",
    "           yticks=np.arange(cm.shape[0]),\n",
    "           # ... and label them with the respective list entries\n",
    "           xticklabels=classes, yticklabels=classes,\n",
    "           title=title,\n",
    "           ylabel='True label',\n",
    "           xlabel='Predicted label')\n",
    "\n",
    "    # Rotate the tick labels and set their alignment.\n",
    "    plt.setp(ax.get_xticklabels(), rotation=45, ha=\"right\",\n",
    "             rotation_mode=\"anchor\")\n",
    "\n",
    "    # Loop over data dimensions and create text annotations.\n",
    "    fmt = '.2f' if normalize else 'd'\n",
    "    thresh = cm.max() / 2.\n",
    "    for i in range(cm.shape[0]):\n",
    "        for j in range(cm.shape[1]):\n",
    "            ax.text(j, i, format(cm[i, j], fmt),\n",
    "                    ha=\"center\", va=\"center\",\n",
    "                    color=\"white\" if cm[i, j] > thresh else \"black\")\n",
    "    fig.tight_layout()\n",
    "    return ax.grid(False)\n",
    "\n",
    "\n",
    "np.set_printoptions(precision=2)\n"
   ]
  },
  {
   "cell_type": "markdown",
   "metadata": {
    "colab_type": "text",
    "id": "KFkMcdbcyZob"
   },
   "source": [
    "#knn\n"
   ]
  },
  {
   "cell_type": "code",
   "execution_count": 0,
   "metadata": {
    "colab": {
     "base_uri": "https://localhost:8080/",
     "height": 70
    },
    "colab_type": "code",
    "id": "ojiYCIYwztOt",
    "outputId": "dddc51ef-f978-4b09-8cae-99c04824f2db"
   },
   "outputs": [
    {
     "data": {
      "text/plain": [
       "KNeighborsClassifier(algorithm='auto', leaf_size=30, metric='minkowski',\n",
       "           metric_params=None, n_jobs=None, n_neighbors=3, p=2,\n",
       "           weights='uniform')"
      ]
     },
     "execution_count": 35,
     "metadata": {
      "tags": []
     },
     "output_type": "execute_result"
    }
   ],
   "source": [
    "from sklearn.neighbors import KNeighborsClassifier\n",
    "knn = KNeighborsClassifier(n_neighbors=3)\n",
    "knn.fit(X_train, y_train) \n"
   ]
  },
  {
   "cell_type": "code",
   "execution_count": 0,
   "metadata": {
    "colab": {
     "base_uri": "https://localhost:8080/",
     "height": 52
    },
    "colab_type": "code",
    "id": "O3R50xpLZD2G",
    "outputId": "1c4dbcd0-7b9f-4445-e4bb-2cf2d9bb89ef"
   },
   "outputs": [
    {
     "name": "stdout",
     "output_type": "stream",
     "text": [
      "0.8478421396021627\n",
      "0.7442178040552502\n"
     ]
    }
   ],
   "source": [
    "print(knn.score(X_train, y_train))\n",
    "print(knn.score(X_test, y_test))"
   ]
  },
  {
   "cell_type": "code",
   "execution_count": 0,
   "metadata": {
    "colab": {
     "base_uri": "https://localhost:8080/",
     "height": 35
    },
    "colab_type": "code",
    "id": "0fRBdZaF3HL2",
    "outputId": "04b324a2-b9bc-47a7-eea2-2399558bb660"
   },
   "outputs": [
    {
     "name": "stdout",
     "output_type": "stream",
     "text": [
      "0.7442178040552502\n"
     ]
    }
   ],
   "source": [
    "from sklearn.metrics import confusion_matrix\n",
    "y_pred = knn.predict(X_test)\n",
    "print(knn.score(X_test, y_test, sample_weight=None))\n",
    "y_test_non_category = [ np.argmax(t) for t in y_test]\n",
    "y_predict_non_category = [ np.argmax(t) for t in y_pred ]\n",
    "cm = confusion_matrix(y_test_non_category, y_predict_non_category)"
   ]
  },
  {
   "cell_type": "code",
   "execution_count": 0,
   "metadata": {
    "colab": {
     "base_uri": "https://localhost:8080/",
     "height": 463
    },
    "colab_type": "code",
    "id": "fIxEGvtRoccx",
    "outputId": "8572e0d6-5286-44bd-a702-0fad9aa39112"
   },
   "outputs": [
    {
     "name": "stdout",
     "output_type": "stream",
     "text": [
      "Confusion matrix:\n",
      " [[44942 18517  2385]\n",
      " [21507 41949  2850]\n",
      " [ 2704  1802 61063]]\n",
      "\n"
     ]
    },
    {
     "data": {
      "image/png": "[encoded data removed]",
      "text/plain": [
       "<Figure size 576x396 with 2 Axes>"
      ]
     },
     "metadata": {
      "tags": []
     },
     "output_type": "display_data"
    }
   ],
   "source": [
    "import matplotlib.pyplot as plt\n",
    "print('Confusion matrix:\\n', cm)\n",
    "print()\n",
    "labels = ['Cancelled', 'Succesfull', 'Failed']\n",
    "fig = plt.figure()\n",
    "ax = fig.add_subplot(111)\n",
    "cax = ax.matshow(cm, cmap=plt.cm.Blues)\n",
    "fig.colorbar(cax)\n",
    "ax.set_xticklabels([''] + labels)\n",
    "ax.set_yticklabels([''] + labels)\n",
    "plt.xlabel('Predicted')\n",
    "plt.ylabel('Expected')\n",
    "plt.title(\"KNN\")\n",
    "plt.show()\n"
   ]
  },
  {
   "cell_type": "code",
   "execution_count": 0,
   "metadata": {
    "colab": {},
    "colab_type": "code",
    "id": "SCbJegBW7UaF"
   },
   "outputs": [],
   "source": [
    "y_test_non_category = [ np.argmax(t) for t in y_test]\n",
    "y_predict_non_category = [ np.argmax(t) for t in y_pred ]\n"
   ]
  },
  {
   "cell_type": "code",
   "execution_count": 0,
   "metadata": {
    "colab": {},
    "colab_type": "code",
    "id": "ZyVHC754I6_9"
   },
   "outputs": [],
   "source": [
    "# Plot normalized confusion matrix\n",
    "plot_confusion_matrix(y_test_non_category, y_predict_non_category, classes=class_names, normalize=False,\n",
    "                      title='kNN')\n",
    "\n",
    "plt.show()"
   ]
  },
  {
   "cell_type": "code",
   "execution_count": 0,
   "metadata": {
    "colab": {
     "base_uri": "https://localhost:8080/",
     "height": 195
    },
    "colab_type": "code",
    "id": "QOFbR-INDD9H",
    "outputId": "8f4946ca-9250-4890-afce-5ab5da6325b6"
   },
   "outputs": [
    {
     "name": "stdout",
     "output_type": "stream",
     "text": [
      "              precision    recall  f1-score   support\n",
      "\n",
      "    Canceled       0.65      0.68      0.67     65844\n",
      "  Succesfull       0.67      0.63      0.65     66306\n",
      "      Failed       0.92      0.93      0.93     65569\n",
      "\n",
      "   micro avg       0.75      0.75      0.75    197719\n",
      "   macro avg       0.75      0.75      0.75    197719\n",
      "weighted avg       0.75      0.75      0.75    197719\n",
      "\n"
     ]
    }
   ],
   "source": [
    "from sklearn.metrics import classification_report\n",
    "print(classification_report(y_test_non_category, y_predict_non_category, target_names=['Canceled', 'Succesfull', 'Failed']))"
   ]
  },
  {
   "cell_type": "markdown",
   "metadata": {
    "colab_type": "text",
    "id": "s8hwocVrqiaH"
   },
   "source": [
    "#MLP\n"
   ]
  },
  {
   "cell_type": "code",
   "execution_count": 0,
   "metadata": {
    "colab": {
     "base_uri": "https://localhost:8080/",
     "height": 850
    },
    "colab_type": "code",
    "id": "os0u3gGt2Pz-",
    "outputId": "bd9a390a-3bd8-4c83-86a7-880cd8fd7fa1"
   },
   "outputs": [
    {
     "name": "stdout",
     "output_type": "stream",
     "text": [
      "WARNING:tensorflow:From /usr/local/lib/python3.6/dist-packages/tensorflow/python/ops/math_ops.py:3066: to_int32 (from tensorflow.python.ops.math_ops) is deprecated and will be removed in a future version.\n",
      "Instructions for updating:\n",
      "Use tf.cast instead.\n",
      "Train on 316350 samples, validate on 79088 samples\n",
      "Epoch 1/200\n",
      "316350/316350 [==============================] - 33s 104us/step - loss: 0.5920 - acc: 0.6809 - val_loss: 0.5556 - val_acc: 0.7030\n",
      "Epoch 2/200\n",
      "316350/316350 [==============================] - 31s 98us/step - loss: 0.5381 - acc: 0.7110 - val_loss: 0.5434 - val_acc: 0.7110\n",
      "Epoch 3/200\n",
      "316350/316350 [==============================] - 31s 98us/step - loss: 0.5229 - acc: 0.7228 - val_loss: 0.5095 - val_acc: 0.7308\n",
      "Epoch 4/200\n",
      "316350/316350 [==============================] - 31s 98us/step - loss: 0.5122 - acc: 0.7297 - val_loss: 0.5047 - val_acc: 0.7393\n",
      "Epoch 5/200\n",
      "316350/316350 [==============================] - 31s 99us/step - loss: 0.5070 - acc: 0.7349 - val_loss: 0.5121 - val_acc: 0.7336\n",
      "Epoch 6/200\n",
      "316350/316350 [==============================] - 32s 102us/step - loss: 0.5026 - acc: 0.7384 - val_loss: 0.4940 - val_acc: 0.7411\n",
      "Epoch 7/200\n",
      "316350/316350 [==============================] - 32s 102us/step - loss: 0.4988 - acc: 0.7407 - val_loss: 0.5087 - val_acc: 0.7336\n",
      "Epoch 8/200\n",
      "316350/316350 [==============================] - 31s 99us/step - loss: 0.4973 - acc: 0.7420 - val_loss: 0.4933 - val_acc: 0.7466\n",
      "Epoch 9/200\n",
      "316350/316350 [==============================] - 32s 101us/step - loss: 0.4954 - acc: 0.7441 - val_loss: 0.4952 - val_acc: 0.7424\n",
      "Epoch 10/200\n",
      "316350/316350 [==============================] - 31s 99us/step - loss: 0.4931 - acc: 0.7459 - val_loss: 0.4941 - val_acc: 0.7454\n",
      "Epoch 11/200\n",
      "316350/316350 [==============================] - 32s 100us/step - loss: 0.4916 - acc: 0.7471 - val_loss: 0.4917 - val_acc: 0.7452\n",
      "Epoch 12/200\n",
      "316350/316350 [==============================] - 32s 100us/step - loss: 0.4904 - acc: 0.7485 - val_loss: 0.4848 - val_acc: 0.7492\n",
      "Epoch 13/200\n",
      "316350/316350 [==============================] - 31s 99us/step - loss: 0.4880 - acc: 0.7502 - val_loss: 0.4850 - val_acc: 0.7501\n",
      "Epoch 14/200\n",
      "316350/316350 [==============================] - 32s 102us/step - loss: 0.4857 - acc: 0.7507 - val_loss: 0.4892 - val_acc: 0.7522\n",
      "Epoch 15/200\n",
      "316350/316350 [==============================] - 31s 99us/step - loss: 0.4851 - acc: 0.7520 - val_loss: 0.4879 - val_acc: 0.7471\n",
      "Epoch 16/200\n",
      "316350/316350 [==============================] - 33s 103us/step - loss: 0.4835 - acc: 0.7522 - val_loss: 0.4834 - val_acc: 0.7530\n",
      "Epoch 17/200\n",
      "316350/316350 [==============================] - 33s 103us/step - loss: 0.4829 - acc: 0.7531 - val_loss: 0.4838 - val_acc: 0.7507\n",
      "Epoch 18/200\n",
      "316350/316350 [==============================] - 31s 98us/step - loss: 0.4826 - acc: 0.7536 - val_loss: 0.5116 - val_acc: 0.7414\n",
      "Epoch 19/200\n",
      "316350/316350 [==============================] - 31s 99us/step - loss: 0.4819 - acc: 0.7543 - val_loss: 0.4828 - val_acc: 0.7530\n",
      "Epoch 20/200\n",
      "316350/316350 [==============================] - 31s 99us/step - loss: 0.4810 - acc: 0.7551 - val_loss: 0.4777 - val_acc: 0.7580\n",
      "Epoch 21/200\n",
      "316350/316350 [==============================] - 31s 99us/step - loss: 0.4803 - acc: 0.7564 - val_loss: 0.4792 - val_acc: 0.7547\n",
      "Epoch 22/200\n",
      "316350/316350 [==============================] - 32s 101us/step - loss: 0.4802 - acc: 0.7559 - val_loss: 0.4786 - val_acc: 0.7573\n",
      "dict_keys(['val_loss', 'val_acc', 'loss', 'acc'])\n"
     ]
    }
   ],
   "source": [
    "from keras.models import Sequential\n",
    "from keras.layers import Dense, Activation\n",
    "\t# create model\n",
    "model = Sequential()\n",
    "model.add(Dense(34, input_dim=7, activation='relu'))\n",
    "model.add(Dense(300, activation='relu'))\n",
    "model.add(Dense(150, activation='relu'))\n",
    "model.add(Dense(3, activation='softmax'))\n",
    "keras.optimizers.Adam(lr=0.0001, beta_1=0.0, beta_2=0.0, epsilon=None, amsgrad=False)\n",
    "\n",
    "callbacks_list = [\n",
    "    keras.callbacks.ModelCheckpoint(\n",
    "        filepath='best_model.{epoch:02d}-{val_loss:.2f}.h5',\n",
    "        monitor='val_loss', save_best_only=True),\n",
    "    keras.callbacks.EarlyStopping(monitor='acc', patience=1)]  \n",
    "\n",
    "model.compile(loss='categorical_crossentropy', optimizer='adam', metrics=['accuracy'])\n",
    "history = model.fit(X_train, y_train, validation_split=0.2, epochs=200, batch_size=29, \n",
    "                    verbose=1, callbacks=callbacks_list)\n",
    "\n",
    "print(history.history.keys())"
   ]
  },
  {
   "cell_type": "code",
   "execution_count": 0,
   "metadata": {
    "colab": {
     "base_uri": "https://localhost:8080/",
     "height": 294
    },
    "colab_type": "code",
    "id": "BKkbnYzbcVky",
    "outputId": "364c2fa5-d232-4295-f576-4ca98b7ca484"
   },
   "outputs": [
    {
     "name": "stdout",
     "output_type": "stream",
     "text": [
      "_________________________________________________________________\n",
      "Layer (type)                 Output Shape              Param #   \n",
      "=================================================================\n",
      "dense_5 (Dense)              (None, 34)                272       \n",
      "_________________________________________________________________\n",
      "dense_6 (Dense)              (None, 300)               10500     \n",
      "_________________________________________________________________\n",
      "dense_7 (Dense)              (None, 150)               45150     \n",
      "_________________________________________________________________\n",
      "dense_8 (Dense)              (None, 3)                 453       \n",
      "=================================================================\n",
      "Total params: 56,375\n",
      "Trainable params: 56,375\n",
      "Non-trainable params: 0\n",
      "_________________________________________________________________\n",
      "None\n"
     ]
    }
   ],
   "source": [
    "print(model.summary())"
   ]
  },
  {
   "cell_type": "code",
   "execution_count": 0,
   "metadata": {
    "colab": {
     "base_uri": "https://localhost:8080/",
     "height": 52
    },
    "colab_type": "code",
    "id": "A0n4bfAL2P7U",
    "outputId": "c593902e-40db-437a-cc91-ee0df120e654"
   },
   "outputs": [
    {
     "name": "stdout",
     "output_type": "stream",
     "text": [
      "197719/197719 [==============================] - 6s 29us/step\n",
      "0.7570036263586201\n"
     ]
    }
   ],
   "source": [
    "from sklearn.metrics import accuracy_score\n",
    "y_pred = model.predict_classes(X_test, verbose=1)\n",
    "y = to_categorical(y_pred)\n",
    "print(accuracy_score(y, y_test))"
   ]
  },
  {
   "cell_type": "code",
   "execution_count": 0,
   "metadata": {
    "colab": {
     "base_uri": "https://localhost:8080/",
     "height": 735
    },
    "colab_type": "code",
    "id": "elaftQkZGbcc",
    "outputId": "a2309310-b0db-4865-86cf-18aa0ba83879"
   },
   "outputs": [
    {
     "data": {
      "image/png": "[encoded data removed]",
      "text/plain": [
       "<Figure size 576x396 with 1 Axes>"
      ]
     },
     "metadata": {
      "tags": []
     },
     "output_type": "display_data"
    },
    {
     "data": {
      "image/png": "[encoded data removed]",
      "text/plain": [
       "<Figure size 576x396 with 1 Axes>"
      ]
     },
     "metadata": {
      "tags": []
     },
     "output_type": "display_data"
    }
   ],
   "source": [
    "\n",
    "import matplotlib.pyplot as plt\n",
    "# summarize history for accuracy\n",
    "plt.plot(history.history['acc'])\n",
    "plt.plot(history.history['val_acc'])\n",
    "plt.title('model accuracy')\n",
    "plt.ylabel('accuracy')\n",
    "plt.xlabel('epoch')\n",
    "plt.legend(['train', 'val'], loc='upper left')\n",
    "plt.show()\n",
    "# summarize history for loss\n",
    "plt.plot(history.history['loss'])\n",
    "plt.plot(history.history['val_loss'])\n",
    "plt.title('model loss')\n",
    "plt.ylabel('loss')\n",
    "plt.xlabel('epoch')\n",
    "plt.legend(['train', 'val'], loc='upper left')\n",
    "plt.show()"
   ]
  },
  {
   "cell_type": "code",
   "execution_count": 0,
   "metadata": {
    "colab": {
     "base_uri": "https://localhost:8080/",
     "height": 463
    },
    "colab_type": "code",
    "id": "xeFDYV4D2QAk",
    "outputId": "8de6c437-76ff-4e94-eca1-265391f5020a"
   },
   "outputs": [
    {
     "name": "stdout",
     "output_type": "stream",
     "text": [
      "Confusion matrix:\n",
      " [[40074 23579  2191]\n",
      " [18375 46210  1721]\n",
      " [  785  1394 63390]]\n",
      "\n"
     ]
    },
    {
     "data": {
      "image/png": "[encoded data removed]",
      "text/plain": [
       "<Figure size 576x396 with 2 Axes>"
      ]
     },
     "metadata": {
      "tags": []
     },
     "output_type": "display_data"
    }
   ],
   "source": [
    "from matplotlib import pyplot as plt\n",
    "from sklearn.metrics import confusion_matrix\n",
    "\n",
    "y_test_non_category = [ np.argmax(t) for t in y_test]\n",
    "y_predict_non_category = [ np.argmax(t) for t in y ]\n",
    "\n",
    "#print(y_test_non_category)\n",
    "#print(y_predict_non_category)\n",
    "conf_mat = confusion_matrix(y_test_non_category, y_predict_non_category)\n",
    "#print(conf_mat)\n",
    "\n",
    "#conf_mat = confusion_matrix(y_true=y_test, y_pred=y_pred)\n",
    "print('Confusion matrix:\\n', conf_mat)\n",
    "print()\n",
    "labels = ['Canceled', 'Succesfull', 'Failed']\n",
    "fig = plt.figure()\n",
    "ax = fig.add_subplot(111)\n",
    "cax = ax.matshow(conf_mat, cmap=plt.cm.Blues)\n",
    "fig.colorbar(cax)\n",
    "ax.set_xticklabels([''] + labels)\n",
    "ax.set_yticklabels([''] + labels)\n",
    "plt.xlabel('Predicted')\n",
    "plt.ylabel('Expected')\n",
    "plt.title(\"Multilayer Perceptron\")\n",
    "plt.show()\n"
   ]
  },
  {
   "cell_type": "code",
   "execution_count": 0,
   "metadata": {
    "colab": {
     "base_uri": "https://localhost:8080/",
     "height": 472
    },
    "colab_type": "code",
    "id": "XZA7tw-m2QFx",
    "outputId": "56bd073f-b82d-41bf-fe78-f6647a62ce6a"
   },
   "outputs": [
    {
     "name": "stdout",
     "output_type": "stream",
     "text": [
      "Confusion matrix, without normalization\n",
      "[[40074 23579  2191]\n",
      " [18375 46210  1721]\n",
      " [  785  1394 63390]]\n"
     ]
    },
    {
     "data": {
      "image/png": "[encoded data removed]",
      "text/plain": [
       "<Figure size 576x396 with 2 Axes>"
      ]
     },
     "metadata": {
      "tags": []
     },
     "output_type": "display_data"
    }
   ],
   "source": [
    "# Plot normalized confusion matrix\n",
    "plot_confusion_matrix(y_test_non_category, y_predict_non_category, classes=class_names, normalize=False,\n",
    "                      title='Multilayer Perceptron')\n",
    "\n",
    "plt.show()"
   ]
  },
  {
   "cell_type": "code",
   "execution_count": 0,
   "metadata": {
    "colab": {
     "base_uri": "https://localhost:8080/",
     "height": 195
    },
    "colab_type": "code",
    "id": "30fErl0N2QMJ",
    "outputId": "8e5a5c4c-c25f-4028-9242-94e181176648"
   },
   "outputs": [
    {
     "name": "stdout",
     "output_type": "stream",
     "text": [
      "              precision    recall  f1-score   support\n",
      "\n",
      "    Canceled       0.68      0.61      0.64     65844\n",
      "  Succesfull       0.65      0.70      0.67     66306\n",
      "      Failed       0.94      0.97      0.95     65569\n",
      "\n",
      "   micro avg       0.76      0.76      0.76    197719\n",
      "   macro avg       0.76      0.76      0.76    197719\n",
      "weighted avg       0.76      0.76      0.76    197719\n",
      "\n"
     ]
    }
   ],
   "source": [
    "from sklearn.metrics import classification_report\n",
    "print(classification_report(y_test_non_category, y_predict_non_category, target_names=['Canceled', 'Succesfull', 'Failed']))"
   ]
  },
  {
   "cell_type": "code",
   "execution_count": 0,
   "metadata": {
    "colab": {},
    "colab_type": "code",
    "id": "BfwmJ0rq8f9u"
   },
   "outputs": [],
   "source": []
  },
  {
   "cell_type": "markdown",
   "metadata": {
    "colab_type": "text",
    "id": "ppPJog1Oqx5x"
   },
   "source": [
    "#prep for conv and lstm\n",
    "\n"
   ]
  },
  {
   "cell_type": "code",
   "execution_count": 0,
   "metadata": {
    "colab": {
     "base_uri": "https://localhost:8080/",
     "height": 429
    },
    "colab_type": "code",
    "id": "68QfQwGanZyN",
    "outputId": "34678c06-d1b3-40f6-da3f-a36da33357ff"
   },
   "outputs": [
    {
     "name": "stdout",
     "output_type": "stream",
     "text": [
      "2    197719\n",
      "3    133956\n",
      "1     38779\n",
      "Name: state, dtype: int64\n"
     ]
    },
    {
     "data": {
      "image/png": "[encoded data removed]",
      "text/plain": [
       "<Figure size 576x396 with 1 Axes>"
      ]
     },
     "metadata": {
      "tags": []
     },
     "output_type": "display_data"
    }
   ],
   "source": [
    "import pandas as pd\n",
    "\n",
    "state_count = ks2018.state.value_counts()\n",
    "print(state_count[0:3])\n",
    "# Divide by class\n",
    "df_class_1 = ks2018[ks2018['state'] == 1]\n",
    "df_class_2 =  ks2018[ks2018['state'] == 2]  #{'canceled':1, 'failed':2, 'successful':3}\n",
    "df_class_3 =  ks2018[ks2018['state'] == 3]#failed\n",
    "\n",
    "#print('Proportion:', round(state_count[0] / state_count[1], 3), ': 1')\n",
    "state_count.plot(kind='bar', title='Count (state)');"
   ]
  },
  {
   "cell_type": "code",
   "execution_count": 0,
   "metadata": {
    "colab": {
     "base_uri": "https://localhost:8080/",
     "height": 52
    },
    "colab_type": "code",
    "id": "w7Dpmu6CtIiS",
    "outputId": "6fec6062-1a68-4e83-e149-51e2f66fd06b"
   },
   "outputs": [
    {
     "name": "stdout",
     "output_type": "stream",
     "text": [
      "[3.18431797 0.62454628 0.92183005]\n",
      "[1 2 3]\n"
     ]
    }
   ],
   "source": [
    "## x en y split met nummers niet one hot\n",
    "from sklearn.model_selection import train_test_split\n",
    "from sklearn.utils import class_weight\n",
    "import numpy as np\n",
    "import numpy\n",
    "\n",
    "# Inputs\n",
    "X = numpy.array(ks2018.loc[:, ks2018.columns != 'state'], dtype='int64')\n",
    "y = numpy.array(ks2018['state'].values, dtype='int64')\n",
    "class_weights = class_weight.compute_class_weight('balanced',\n",
    "                                                 numpy.unique(y),\n",
    "                                                 y)\n",
    "\n",
    "print(class_weights)\n",
    "print(numpy.unique(y))"
   ]
  },
  {
   "cell_type": "code",
   "execution_count": 0,
   "metadata": {
    "colab": {
     "base_uri": "https://localhost:8080/",
     "height": 195
    },
    "colab_type": "code",
    "id": "TBIcS94UFbc_",
    "outputId": "4e09ac18-e543-4f65-a71e-2c8d93cfa991"
   },
   "outputs": [
    {
     "name": "stdout",
     "output_type": "stream",
     "text": [
      "Before OverSampling, counts of label '1': 38779\n",
      "Before OverSampling, counts of label '2': 197719 \n",
      "Before OverSampling, counts of label '3': 133956 \n",
      "\n",
      "After OverSampling, the shape of X: (593157, 7)\n",
      "After OverSampling, the shape of y: (593157,) \n",
      "\n",
      "After OverSampling, counts of label '1': 197719\n",
      "After OverSampling, counts of label '2': 197719\n",
      "After OverSampling, counts of label '2': 197719\n"
     ]
    }
   ],
   "source": [
    "from imblearn.over_sampling import SMOTE\n",
    "\n",
    "print(\"Before OverSampling, counts of label '1': {}\".format(sum(y==1)))\n",
    "print(\"Before OverSampling, counts of label '2': {} \".format(sum(y==2)))\n",
    "print(\"Before OverSampling, counts of label '3': {} \\n\".format(sum(y==3)))\n",
    "\n",
    "sm = SMOTE(random_state=4)\n",
    "X_res, y_res = sm.fit_sample(X, y.ravel())\n",
    "\n",
    "print('After OverSampling, the shape of X: {}'.format(X_res.shape))\n",
    "print('After OverSampling, the shape of y: {} \\n'.format(y_res.shape))\n",
    "\n",
    "print(\"After OverSampling, counts of label '1': {}\".format(sum(y_res==1)))\n",
    "print(\"After OverSampling, counts of label '2': {}\".format(sum(y_res==2)))\n",
    "print(\"After OverSampling, counts of label '2': {}\".format(sum(y_res==3)))\n",
    "\n",
    "X= numpy.array(X_res)\n",
    "y= numpy.array(y_res)\n"
   ]
  },
  {
   "cell_type": "code",
   "execution_count": 0,
   "metadata": {
    "colab": {
     "base_uri": "https://localhost:8080/",
     "height": 141
    },
    "colab_type": "code",
    "id": "FufKVeBJtOBT",
    "outputId": "8f0f2873-594f-4109-bd63-c2ad61247b4d"
   },
   "outputs": [
    {
     "name": "stdout",
     "output_type": "stream",
     "text": [
      "[[0 1 0]\n",
      " [0 1 0]\n",
      " [0 1 0]\n",
      " ...\n",
      " [0 0 1]\n",
      " [0 0 1]\n",
      " [0 0 1]]\n"
     ]
    }
   ],
   "source": [
    "from keras.utils import to_categorical\n",
    "# one hot encoder\n",
    "from sklearn.preprocessing import LabelBinarizer\n",
    "onehot = LabelBinarizer()\n",
    "y = onehot.fit_transform(y)\n",
    "\n",
    "print(y)"
   ]
  },
  {
   "cell_type": "code",
   "execution_count": 0,
   "metadata": {
    "colab": {
     "base_uri": "https://localhost:8080/",
     "height": 52
    },
    "colab_type": "code",
    "id": "h8K3T2BgtQBz",
    "outputId": "9aa4ffb2-b90a-4a8c-feea-4769e7d59a16"
   },
   "outputs": [
    {
     "name": "stdout",
     "output_type": "stream",
     "text": [
      "<class 'numpy.ndarray'>\n",
      "(593157, 7)\n"
     ]
    }
   ],
   "source": [
    "######  feature scaling robust\n",
    "from sklearn.preprocessing import RobustScaler\n",
    "scaler = RobustScaler()\n",
    "print(type(X))\n",
    "X = scaler.fit_transform(X)\n",
    "print(X.shape)"
   ]
  },
  {
   "cell_type": "code",
   "execution_count": 0,
   "metadata": {
    "colab": {
     "base_uri": "https://localhost:8080/",
     "height": 301
    },
    "colab_type": "code",
    "id": "7q-bH9lryYZh",
    "outputId": "adb0e4fe-ea2b-4afc-b544-8bce6ecca9ac"
   },
   "outputs": [
    {
     "name": "stdout",
     "output_type": "stream",
     "text": [
      "(395438, 7)\n",
      "[[0 0 1]\n",
      " [1 0 0]\n",
      " [0 1 0]\n",
      " ...\n",
      " [1 0 0]\n",
      " [1 0 0]\n",
      " [1 0 0]]\n",
      "(197719, 7)\n",
      "[[1 0 0]\n",
      " [0 1 0]\n",
      " [1 0 0]\n",
      " ...\n",
      " [0 0 1]\n",
      " [1 0 0]\n",
      " [0 0 1]]\n"
     ]
    }
   ],
   "source": [
    "## split\n",
    "import numpy as np\n",
    "X_train, X_test, y_train, y_test = train_test_split(X, y, test_size=1/3, random_state=63)\n",
    "print(X_train.shape)\n",
    "print(y_train)\n",
    "print(X_test.shape)\n",
    "print(y_test)\n",
    "X_train = X_train.reshape(X_train.shape[0], 1, 7)\n",
    "X_test = X_test.reshape(X_test.shape[0], 7, 1)"
   ]
  },
  {
   "cell_type": "markdown",
   "metadata": {
    "colab_type": "text",
    "id": "_d5ZTKbVoHcL"
   },
   "source": [
    "#lstm\n"
   ]
  },
  {
   "cell_type": "code",
   "execution_count": 0,
   "metadata": {
    "colab": {
     "base_uri": "https://localhost:8080/",
     "height": 731
    },
    "colab_type": "code",
    "id": "H_8J_UGbn_QZ",
    "outputId": "dcc61ad5-6e29-4b28-b4b1-0296e28b6509"
   },
   "outputs": [
    {
     "name": "stdout",
     "output_type": "stream",
     "text": [
      "Train on 316350 samples, validate on 79088 samples\n",
      "Epoch 1/50\n",
      "316350/316350 [==============================] - 49s 156us/step - loss: 0.6768 - acc: 0.6397 - val_loss: 0.5596 - val_acc: 0.6921\n",
      "Epoch 2/50\n",
      "316350/316350 [==============================] - 44s 138us/step - loss: 0.5514 - acc: 0.6930 - val_loss: 0.5331 - val_acc: 0.7051\n",
      "Epoch 3/50\n",
      "316350/316350 [==============================] - 44s 139us/step - loss: 0.5353 - acc: 0.7037 - val_loss: 0.5246 - val_acc: 0.7086\n",
      "Epoch 4/50\n",
      "316350/316350 [==============================] - 44s 139us/step - loss: 0.5260 - acc: 0.7109 - val_loss: 0.5260 - val_acc: 0.7116\n",
      "Epoch 5/50\n",
      "316350/316350 [==============================] - 44s 138us/step - loss: 0.5196 - acc: 0.7178 - val_loss: 0.5103 - val_acc: 0.7233\n",
      "Epoch 6/50\n",
      "316350/316350 [==============================] - 43s 137us/step - loss: 0.5145 - acc: 0.7221 - val_loss: 0.5055 - val_acc: 0.7281\n",
      "Epoch 7/50\n",
      "316350/316350 [==============================] - 42s 134us/step - loss: 0.5088 - acc: 0.7271 - val_loss: 0.5018 - val_acc: 0.7347\n",
      "Epoch 8/50\n",
      "316350/316350 [==============================] - 44s 138us/step - loss: 0.5048 - acc: 0.7319 - val_loss: 0.4972 - val_acc: 0.7372\n",
      "Epoch 9/50\n",
      "316350/316350 [==============================] - 44s 138us/step - loss: 0.5006 - acc: 0.7346 - val_loss: 0.4944 - val_acc: 0.7376\n",
      "Epoch 10/50\n",
      "316350/316350 [==============================] - 44s 138us/step - loss: 0.4983 - acc: 0.7381 - val_loss: 0.4905 - val_acc: 0.7443\n",
      "Epoch 11/50\n",
      "316350/316350 [==============================] - 43s 137us/step - loss: 0.4952 - acc: 0.7405 - val_loss: 0.4945 - val_acc: 0.7408\n",
      "Epoch 12/50\n",
      "316350/316350 [==============================] - 43s 137us/step - loss: 0.4918 - acc: 0.7425 - val_loss: 0.4847 - val_acc: 0.7491\n",
      "Epoch 13/50\n",
      "316350/316350 [==============================] - 43s 137us/step - loss: 0.4895 - acc: 0.7448 - val_loss: 0.4818 - val_acc: 0.7505\n",
      "Epoch 14/50\n",
      "316350/316350 [==============================] - 43s 137us/step - loss: 0.4866 - acc: 0.7479 - val_loss: 0.4803 - val_acc: 0.7517\n",
      "Epoch 15/50\n",
      "316350/316350 [==============================] - 44s 139us/step - loss: 0.4847 - acc: 0.7494 - val_loss: 0.4819 - val_acc: 0.7531\n",
      "Epoch 16/50\n",
      "316350/316350 [==============================] - 44s 140us/step - loss: 0.4819 - acc: 0.7507 - val_loss: 0.4759 - val_acc: 0.7545\n",
      "Epoch 17/50\n",
      "316350/316350 [==============================] - 44s 138us/step - loss: 0.4809 - acc: 0.7523 - val_loss: 0.4749 - val_acc: 0.7576\n",
      "Epoch 18/50\n",
      "316350/316350 [==============================] - 43s 137us/step - loss: 0.4794 - acc: 0.7537 - val_loss: 0.4720 - val_acc: 0.7585\n",
      "Epoch 19/50\n",
      "316350/316350 [==============================] - 43s 136us/step - loss: 0.4779 - acc: 0.7544 - val_loss: 0.4743 - val_acc: 0.7592\n",
      "Epoch 20/50\n",
      "316350/316350 [==============================] - 44s 138us/step - loss: 0.4772 - acc: 0.7544 - val_loss: 0.4716 - val_acc: 0.7589\n"
     ]
    },
    {
     "data": {
      "text/plain": [
       "<keras.callbacks.History at 0x7feecb7d2da0>"
      ]
     },
     "execution_count": 100,
     "metadata": {
      "tags": []
     },
     "output_type": "execute_result"
    }
   ],
   "source": [
    "from keras.models import Sequential\n",
    "from keras.layers import LSTM, Dense, Dropout\n",
    "import numpy as np\n",
    "\n",
    "data_dim = 1\n",
    "timesteps =  7\n",
    "\n",
    "\n",
    "# expected input data shape: (batch_size, timesteps, data_dim)\n",
    "model = Sequential()\n",
    "model.add(LSTM(32, return_sequences=True,\n",
    "               input_shape=(timesteps, data_dim)))  # returns a sequence of vectors of dimension 32\n",
    "model.add(LSTM(32, return_sequences=True))\n",
    "model.add(Dropout(0.2))# returns a sequence of vectors of dimension 32\n",
    "model.add(LSTM(32))  # return a single vector of dimension 32\n",
    "model.add(Dense(3, activation='softmax'))\n",
    "\n",
    "callbacks_list = [\n",
    "    keras.callbacks.ModelCheckpoint(\n",
    "        filepath='best_model.{epoch:02d}-{val_loss:.2f}.h5',\n",
    "        monitor='val_loss', save_best_only=True),\n",
    "    keras.callbacks.EarlyStopping(monitor='acc', patience=1)]\n",
    "\n",
    "model.compile(loss='categorical_crossentropy',\n",
    "              optimizer='adam',\n",
    "              metrics=['accuracy'])\n",
    "\n",
    "model.fit(X_train, y_train,\n",
    "          batch_size=200, epochs=50,\n",
    "          validation_split=0.2, \n",
    "          callbacks=callbacks_list)"
   ]
  },
  {
   "cell_type": "code",
   "execution_count": 0,
   "metadata": {
    "colab": {
     "base_uri": "https://localhost:8080/",
     "height": 323
    },
    "colab_type": "code",
    "id": "CNArwrOTCSOE",
    "outputId": "4c293921-951e-4b92-fa7f-17d4a485bc6e"
   },
   "outputs": [
    {
     "name": "stdout",
     "output_type": "stream",
     "text": [
      "_________________________________________________________________\n",
      "Layer (type)                 Output Shape              Param #   \n",
      "=================================================================\n",
      "lstm_22 (LSTM)               (None, 527250, 32)        5120      \n",
      "_________________________________________________________________\n",
      "lstm_23 (LSTM)               (None, 527250, 32)        8320      \n",
      "_________________________________________________________________\n",
      "dropout_9 (Dropout)          (None, 527250, 32)        0         \n",
      "_________________________________________________________________\n",
      "lstm_24 (LSTM)               (None, 32)                8320      \n",
      "_________________________________________________________________\n",
      "dense_58 (Dense)             (None, 3)                 99        \n",
      "=================================================================\n",
      "Total params: 21,859\n",
      "Trainable params: 21,859\n",
      "Non-trainable params: 0\n",
      "_________________________________________________________________\n",
      "None\n"
     ]
    }
   ],
   "source": [
    "print(model.summary())"
   ]
  },
  {
   "cell_type": "code",
   "execution_count": 0,
   "metadata": {
    "colab": {
     "base_uri": "https://localhost:8080/",
     "height": 170
    },
    "colab_type": "code",
    "id": "amncEmOdoJza",
    "outputId": "4f6c3bb4-da15-4574-d338-4d17d8407814"
   },
   "outputs": [
    {
     "name": "stdout",
     "output_type": "stream",
     "text": [
      "197719/197719 [==============================] - 20s 103us/step\n",
      "[[1 0 0]\n",
      " [0 1 0]\n",
      " [1 0 0]\n",
      " ...\n",
      " [0 0 1]\n",
      " [1 0 0]\n",
      " [0 0 1]]\n",
      "0.7628907692229882\n"
     ]
    }
   ],
   "source": [
    "from sklearn.metrics import accuracy_score\n",
    "\n",
    "y_pred = model.predict_classes(X_test, verbose=1)\n",
    "\n",
    "print(y_test)\n",
    "y = to_categorical(y_pred)\n",
    "print(accuracy_score(y, y_test))\n"
   ]
  },
  {
   "cell_type": "code",
   "execution_count": 0,
   "metadata": {
    "colab": {
     "base_uri": "https://localhost:8080/",
     "height": 459
    },
    "colab_type": "code",
    "id": "9ntIvj-0oUC4",
    "outputId": "e8a0da76-31f1-4562-bc70-243d96ba2d4c"
   },
   "outputs": [
    {
     "name": "stdout",
     "output_type": "stream",
     "text": [
      "Confusion matrix:\n",
      " [[45578 18174  1868]\n",
      " [23251 41487  1335]\n",
      " [  952  1301 63773]]\n",
      "\n"
     ]
    },
    {
     "data": {
      "image/png": "[encoded data removed]",
      "text/plain": [
       "<Figure size 576x396 with 2 Axes>"
      ]
     },
     "metadata": {
      "tags": []
     },
     "output_type": "display_data"
    }
   ],
   "source": [
    "from matplotlib import pyplot as plt\n",
    "from sklearn.metrics import confusion_matrix\n",
    "\n",
    "y_test_non_category = [ np.argmax(t) for t in y_test]\n",
    "y_predict_non_category = [ np.argmax(t) for t in y ]\n",
    "\n",
    "#print(y_test_non_category)\n",
    "#print(y_predict_non_category)\n",
    "conf_mat = confusion_matrix(y_test_non_category, y_predict_non_category)\n",
    "#print(conf_mat)\n",
    "\n",
    "#conf_mat = confusion_matrix(y_true=y_test, y_pred=y_pred)\n",
    "print('Confusion matrix:\\n', conf_mat)\n",
    "print()\n",
    "labels = ['Canceled', 'Succesfull', 'Failed']\n",
    "fig = plt.figure()\n",
    "ax = fig.add_subplot(111)\n",
    "cax = ax.matshow(conf_mat, cmap=plt.cm.Blues)\n",
    "fig.colorbar(cax)\n",
    "ax.set_xticklabels([''] + labels)\n",
    "ax.set_yticklabels([''] + labels)\n",
    "plt.xlabel('Predicted')\n",
    "plt.ylabel('Expected')\n",
    "plt.title(\"Long Short-Term Memory\")\n",
    "plt.show()"
   ]
  },
  {
   "cell_type": "code",
   "execution_count": 0,
   "metadata": {
    "colab": {},
    "colab_type": "code",
    "id": "_5D0HdxBIvCs"
   },
   "outputs": [],
   "source": [
    "# Plot normalized confusion matrix\n",
    "plot_confusion_matrix(y_test_non_category, y_predict_non_category, classes=class_names, normalize=False,\n",
    "                      title='Long Short-Term Memory')\n",
    "\n",
    "plt.show()"
   ]
  },
  {
   "cell_type": "code",
   "execution_count": 0,
   "metadata": {
    "colab": {
     "base_uri": "https://localhost:8080/",
     "height": 187
    },
    "colab_type": "code",
    "id": "e52k6t-_obce",
    "outputId": "2a90dace-ab19-4485-d000-762034a90bfd"
   },
   "outputs": [
    {
     "name": "stdout",
     "output_type": "stream",
     "text": [
      "              precision    recall  f1-score   support\n",
      "\n",
      "    Canceled       0.65      0.69      0.67     65620\n",
      "  Succesfull       0.68      0.63      0.65     66073\n",
      "      Failed       0.95      0.97      0.96     66026\n",
      "\n",
      "   micro avg       0.76      0.76      0.76    197719\n",
      "   macro avg       0.76      0.76      0.76    197719\n",
      "weighted avg       0.76      0.76      0.76    197719\n",
      "\n"
     ]
    }
   ],
   "source": [
    "from sklearn.metrics import classification_report\n",
    "print(classification_report(y_test_non_category, y_predict_non_category, target_names=['Canceled', 'Succesfull', 'Failed']))"
   ]
  },
  {
   "cell_type": "markdown",
   "metadata": {
    "colab_type": "text",
    "id": "XeoaQ8r0ocA0"
   },
   "source": [
    "#CONVNET"
   ]
  },
  {
   "cell_type": "code",
   "execution_count": 0,
   "metadata": {
    "colab": {
     "base_uri": "https://localhost:8080/",
     "height": 425
    },
    "colab_type": "code",
    "id": "OCUbjY3Rha15",
    "outputId": "a445dbb4-4825-402e-dfe8-a80248af867b"
   },
   "outputs": [
    {
     "name": "stdout",
     "output_type": "stream",
     "text": [
      "_________________________________________________________________\n",
      "Layer (type)                 Output Shape              Param #   \n",
      "=================================================================\n",
      "conv1d_1 (Conv1D)            (None, 3, 200)            1200      \n",
      "_________________________________________________________________\n",
      "conv1d_2 (Conv1D)            (None, 3, 200)            40200     \n",
      "_________________________________________________________________\n",
      "max_pooling1d_1 (MaxPooling1 (None, 1, 200)            0         \n",
      "_________________________________________________________________\n",
      "conv1d_3 (Conv1D)            (None, 1, 260)            52260     \n",
      "_________________________________________________________________\n",
      "conv1d_4 (Conv1D)            (None, 1, 260)            67860     \n",
      "_________________________________________________________________\n",
      "global_average_pooling1d_1 ( (None, 260)               0         \n",
      "_________________________________________________________________\n",
      "dropout_2 (Dropout)          (None, 260)               0         \n",
      "_________________________________________________________________\n",
      "dense_15 (Dense)             (None, 3)                 783       \n",
      "=================================================================\n",
      "Total params: 162,303\n",
      "Trainable params: 162,303\n",
      "Non-trainable params: 0\n",
      "_________________________________________________________________\n",
      "None\n"
     ]
    }
   ],
   "source": [
    "from keras.models import Sequential\n",
    "from keras.layers import Dense, Conv1D, Flatten\n",
    "from keras.layers import Reshape, MaxPooling1D, GlobalAveragePooling1D\n",
    "from keras.layers import Dropout, GaussianNoise, LSTM\n",
    "\n",
    "model_m = Sequential()\n",
    "model_m.add(Conv1D(200, 5, activation='relu', input_shape=(7, 1))) #200 in begin 0.7522342314092222 mooi resultaat 0.752557923113105\n",
    "model_m.add(Conv1D(200, 1, activation='relu'))\n",
    "model_m.add(MaxPooling1D(3))\n",
    "model_m.add(Conv1D(260, 1, activation='relu')) \n",
    "model_m.add(Conv1D(260, 1, activation='relu'))\n",
    "model_m.add(GlobalAveragePooling1D())\n",
    "\n",
    "model_m.add(Dropout(0.1))\n",
    "\n",
    "model_m.add(Dense(3, activation='softmax'))\n",
    "\n",
    "#keras.optimizers.Adam(lr=0.1,  # vandert voorheen 0.01\n",
    " #                     beta_1=0.9, # 0.9 0.834012228205855\n",
    "  #                    beta_2=0.9, # 0,5 0.8294610681459287 meer stappen\n",
    "  #                    epsilon=None, \n",
    "  #                    decay=0.0, \n",
    "   #                   amsgrad=False) \n",
    "\n",
    "print(model_m.summary())  "
   ]
  },
  {
   "cell_type": "code",
   "execution_count": 0,
   "metadata": {
    "colab": {
     "base_uri": "https://localhost:8080/",
     "height": 1156
    },
    "colab_type": "code",
    "id": "APqsmAOpha2g",
    "outputId": "4da181c2-50d8-400d-e0b4-8143ae56510c"
   },
   "outputs": [
    {
     "name": "stdout",
     "output_type": "stream",
     "text": [
      "Train on 316350 samples, validate on 79088 samples\n",
      "Epoch 1/50\n",
      "316350/316350 [==============================] - 52s 164us/step - loss: 0.6020 - acc: 0.6725 - val_loss: 0.5492 - val_acc: 0.7003\n",
      "Epoch 2/50\n",
      "316350/316350 [==============================] - 50s 158us/step - loss: 0.5505 - acc: 0.6989 - val_loss: 0.5444 - val_acc: 0.7078\n",
      "Epoch 3/50\n",
      "316350/316350 [==============================] - 51s 160us/step - loss: 0.5337 - acc: 0.7105 - val_loss: 0.5225 - val_acc: 0.7251\n",
      "Epoch 4/50\n",
      "316350/316350 [==============================] - 50s 159us/step - loss: 0.5216 - acc: 0.7209 - val_loss: 0.5106 - val_acc: 0.7300\n",
      "Epoch 5/50\n",
      "316350/316350 [==============================] - 50s 158us/step - loss: 0.5128 - acc: 0.7293 - val_loss: 0.5077 - val_acc: 0.7299\n",
      "Epoch 6/50\n",
      "316350/316350 [==============================] - 50s 158us/step - loss: 0.5058 - acc: 0.7357 - val_loss: 0.5031 - val_acc: 0.7373\n",
      "Epoch 7/50\n",
      "316350/316350 [==============================] - 50s 159us/step - loss: 0.5019 - acc: 0.7388 - val_loss: 0.4962 - val_acc: 0.7437\n",
      "Epoch 8/50\n",
      "316350/316350 [==============================] - 50s 158us/step - loss: 0.4970 - acc: 0.7431 - val_loss: 0.4943 - val_acc: 0.7456\n",
      "Epoch 9/50\n",
      "316350/316350 [==============================] - 51s 160us/step - loss: 0.4934 - acc: 0.7461 - val_loss: 0.4908 - val_acc: 0.7446\n",
      "Epoch 10/50\n",
      "316350/316350 [==============================] - 51s 160us/step - loss: 0.4928 - acc: 0.7475 - val_loss: 0.4857 - val_acc: 0.7499\n",
      "Epoch 11/50\n",
      "316350/316350 [==============================] - 50s 159us/step - loss: 0.4880 - acc: 0.7504 - val_loss: 0.4828 - val_acc: 0.7539\n",
      "Epoch 12/50\n",
      "316350/316350 [==============================] - 50s 159us/step - loss: 0.4860 - acc: 0.7510 - val_loss: 0.4865 - val_acc: 0.7501\n",
      "Epoch 13/50\n",
      "316350/316350 [==============================] - 50s 159us/step - loss: 0.4840 - acc: 0.7535 - val_loss: 0.4948 - val_acc: 0.7471\n",
      "Epoch 14/50\n",
      "316350/316350 [==============================] - 50s 158us/step - loss: 0.4813 - acc: 0.7538 - val_loss: 0.4812 - val_acc: 0.7540\n",
      "Epoch 15/50\n",
      "316350/316350 [==============================] - 50s 157us/step - loss: 0.4808 - acc: 0.7548 - val_loss: 0.4863 - val_acc: 0.7488\n",
      "Epoch 16/50\n",
      "316350/316350 [==============================] - 51s 161us/step - loss: 0.4792 - acc: 0.7555 - val_loss: 0.4829 - val_acc: 0.7561\n",
      "Epoch 17/50\n",
      "316350/316350 [==============================] - 50s 160us/step - loss: 0.4770 - acc: 0.7568 - val_loss: 0.4807 - val_acc: 0.7562\n",
      "Epoch 18/50\n",
      "316350/316350 [==============================] - 50s 159us/step - loss: 0.4758 - acc: 0.7577 - val_loss: 0.4771 - val_acc: 0.7573\n",
      "Epoch 19/50\n",
      "316350/316350 [==============================] - 50s 159us/step - loss: 0.4743 - acc: 0.7584 - val_loss: 0.4754 - val_acc: 0.7609\n",
      "Epoch 20/50\n",
      "316350/316350 [==============================] - 50s 159us/step - loss: 0.4741 - acc: 0.7590 - val_loss: 0.4902 - val_acc: 0.7496\n",
      "Epoch 21/50\n",
      "316350/316350 [==============================] - 50s 159us/step - loss: 0.4723 - acc: 0.7599 - val_loss: 0.4746 - val_acc: 0.7588\n",
      "Epoch 22/50\n",
      "316350/316350 [==============================] - 51s 162us/step - loss: 0.4707 - acc: 0.7606 - val_loss: 0.4798 - val_acc: 0.7576\n",
      "Epoch 23/50\n",
      "316350/316350 [==============================] - 50s 159us/step - loss: 0.4701 - acc: 0.7610 - val_loss: 0.4753 - val_acc: 0.7611\n",
      "Epoch 24/50\n",
      "316350/316350 [==============================] - 50s 159us/step - loss: 0.4703 - acc: 0.7616 - val_loss: 0.4734 - val_acc: 0.7613\n",
      "Epoch 25/50\n",
      "316350/316350 [==============================] - 50s 159us/step - loss: 0.4678 - acc: 0.7624 - val_loss: 0.4778 - val_acc: 0.7574\n",
      "Epoch 26/50\n",
      "316350/316350 [==============================] - 50s 159us/step - loss: 0.4676 - acc: 0.7629 - val_loss: 0.4829 - val_acc: 0.7592\n",
      "Epoch 27/50\n",
      "316350/316350 [==============================] - 50s 159us/step - loss: 0.4661 - acc: 0.7640 - val_loss: 0.4765 - val_acc: 0.7572\n",
      "Epoch 28/50\n",
      "316350/316350 [==============================] - 51s 163us/step - loss: 0.4645 - acc: 0.7647 - val_loss: 0.4746 - val_acc: 0.7620\n",
      "Epoch 29/50\n",
      "316350/316350 [==============================] - 49s 154us/step - loss: 0.4630 - acc: 0.7652 - val_loss: 0.4815 - val_acc: 0.7579\n",
      "Epoch 30/50\n",
      "316350/316350 [==============================] - 49s 154us/step - loss: 0.4623 - acc: 0.7659 - val_loss: 0.4830 - val_acc: 0.7562\n",
      "Epoch 31/50\n",
      "316350/316350 [==============================] - 49s 153us/step - loss: 0.4614 - acc: 0.7660 - val_loss: 0.4735 - val_acc: 0.7622\n",
      "Epoch 32/50\n",
      "316350/316350 [==============================] - 49s 154us/step - loss: 0.4603 - acc: 0.7668 - val_loss: 0.4828 - val_acc: 0.7559\n",
      "Epoch 33/50\n",
      "316350/316350 [==============================] - 48s 153us/step - loss: 0.4595 - acc: 0.7665 - val_loss: 0.4760 - val_acc: 0.7623\n"
     ]
    }
   ],
   "source": [
    "from sklearn.utils import class_weight\n",
    "from keras import optimizers\n",
    "\n",
    "callbacks_list = [\n",
    "    keras.callbacks.ModelCheckpoint(\n",
    "        filepath='best_model.{epoch:02d}-{val_loss:.2f}.h5',\n",
    "        monitor='val_loss', save_best_only=True),\n",
    "    keras.callbacks.EarlyStopping(monitor='acc', patience=1)]\n",
    "\n",
    "\n",
    "model_m.compile(loss='categorical_crossentropy',\n",
    "                optimizer=\"adam\", metrics=['accuracy'])\n",
    "\n",
    "BATCH_SIZE = 150\n",
    "EPOCHS = 50\n",
    "\n",
    "history = model_m.fit(X_train,\n",
    "                      y_train,\n",
    "                      batch_size=BATCH_SIZE,\n",
    "                      epochs=EPOCHS,\n",
    "                      callbacks=callbacks_list,\n",
    "                      validation_split=0.2,\n",
    "                      verbose=1) #zo laten\n"
   ]
  },
  {
   "cell_type": "code",
   "execution_count": 0,
   "metadata": {
    "colab": {
     "base_uri": "https://localhost:8080/",
     "height": 735
    },
    "colab_type": "code",
    "id": "Ui85EfrnKF96",
    "outputId": "33526f50-34c5-41fd-f924-e7577f107eae"
   },
   "outputs": [
    {
     "data": {
      "image/png": "[encoded data removed]",
      "text/plain": [
       "<Figure size 576x396 with 1 Axes>"
      ]
     },
     "metadata": {
      "tags": []
     },
     "output_type": "display_data"
    },
    {
     "data": {
      "image/png": "[encoded data removed]",
      "text/plain": [
       "<Figure size 576x396 with 1 Axes>"
      ]
     },
     "metadata": {
      "tags": []
     },
     "output_type": "display_data"
    }
   ],
   "source": [
    "import matplotlib.pyplot as plt\n",
    "# summarize history for accuracy\n",
    "plt.plot(history.history['acc'])\n",
    "plt.plot(history.history['val_acc'])\n",
    "plt.title('model accuracy')\n",
    "plt.ylabel('accuracy')\n",
    "plt.xlabel('epoch')\n",
    "plt.legend(['train', 'val'], loc='upper left')\n",
    "plt.show()\n",
    "# summarize history for loss\n",
    "plt.plot(history.history['loss'])\n",
    "plt.plot(history.history['val_loss'])\n",
    "plt.title('model loss')\n",
    "plt.ylabel('loss')\n",
    "plt.xlabel('epoch')\n",
    "plt.legend(['train', 'val'], loc='upper left')\n",
    "plt.show()"
   ]
  },
  {
   "cell_type": "code",
   "execution_count": 0,
   "metadata": {
    "colab": {
     "base_uri": "https://localhost:8080/",
     "height": 170
    },
    "colab_type": "code",
    "id": "iT3NVaokha2z",
    "outputId": "ba375069-085f-4186-cd22-3205029f3c90"
   },
   "outputs": [
    {
     "name": "stdout",
     "output_type": "stream",
     "text": [
      "197719/197719 [==============================] - 9s 48us/step\n",
      "[[1 0 0]\n",
      " [0 1 0]\n",
      " [1 0 0]\n",
      " ...\n",
      " [0 0 1]\n",
      " [1 0 0]\n",
      " [0 0 1]]\n",
      "0.7617932520395106\n"
     ]
    }
   ],
   "source": [
    "from sklearn.metrics import accuracy_score\n",
    "\n",
    "y_pred = model_m.predict_classes(X_test, verbose=1)\n",
    "\n",
    "print(y_test)\n",
    "y = to_categorical(y_pred)\n",
    "print(accuracy_score(y, y_test))"
   ]
  },
  {
   "cell_type": "code",
   "execution_count": 0,
   "metadata": {
    "colab": {
     "base_uri": "https://localhost:8080/",
     "height": 459
    },
    "colab_type": "code",
    "id": "ATEtYZ4gnq0K",
    "outputId": "273c58ac-22ef-488d-8007-a7341ba4c82f"
   },
   "outputs": [
    {
     "name": "stdout",
     "output_type": "stream",
     "text": [
      "Confusion matrix:\n",
      " [[43463 20419  1738]\n",
      " [21027 43976  1070]\n",
      " [  841  2003 63182]]\n",
      "\n"
     ]
    },
    {
     "data": {
      "image/png": "[encoded data removed]",
      "text/plain": [
       "<Figure size 576x396 with 2 Axes>"
      ]
     },
     "metadata": {
      "tags": []
     },
     "output_type": "display_data"
    }
   ],
   "source": [
    "from matplotlib import pyplot as plt\n",
    "from sklearn.metrics import confusion_matrix\n",
    "\n",
    "y_test_non_category = [ np.argmax(t) for t in y_test]\n",
    "y_predict_non_category = [ np.argmax(t) for t in y ]\n",
    "\n",
    "#print(y_test_non_category)\n",
    "#print(y_predict_non_category)\n",
    "conf_mat = confusion_matrix(y_test_non_category, y_predict_non_category)\n",
    "#print(conf_mat)\n",
    "\n",
    "#conf_mat = confusion_matrix(y_true=y_test, y_pred=y_pred)\n",
    "print('Confusion matrix:\\n', conf_mat)\n",
    "print()\n",
    "labels = ['Canceled', 'Succesfull', 'Failed']\n",
    "fig = plt.figure()\n",
    "ax = fig.add_subplot(111)\n",
    "cax = ax.matshow(conf_mat, cmap=plt.cm.Blues)\n",
    "fig.colorbar(cax)\n",
    "ax.set_xticklabels([''] + labels)\n",
    "ax.set_yticklabels([''] + labels)\n",
    "plt.xlabel('Predicted')\n",
    "plt.ylabel('Expected')\n",
    "plt.title(\"ConvNets\")\n",
    "plt.show()\n"
   ]
  },
  {
   "cell_type": "code",
   "execution_count": 0,
   "metadata": {
    "colab": {},
    "colab_type": "code",
    "id": "yvCts93jIyUt"
   },
   "outputs": [],
   "source": [
    "# Plot normalized confusion matrix\n",
    "plot_confusion_matrix(y_test_non_category, y_predict_non_category, classes=class_names, normalize=False,\n",
    "                      title='ConvNets')\n",
    "\n",
    "plt.show()"
   ]
  },
  {
   "cell_type": "code",
   "execution_count": 0,
   "metadata": {
    "colab": {
     "base_uri": "https://localhost:8080/",
     "height": 187
    },
    "colab_type": "code",
    "id": "xQLvJDa8B2KT",
    "outputId": "38efe5ae-66f6-4de9-a3f1-f475f5031560"
   },
   "outputs": [
    {
     "name": "stdout",
     "output_type": "stream",
     "text": [
      "              precision    recall  f1-score   support\n",
      "\n",
      "    Canceled       0.67      0.66      0.66     65620\n",
      "  Succesfull       0.66      0.67      0.66     66073\n",
      "      Failed       0.96      0.96      0.96     66026\n",
      "\n",
      "   micro avg       0.76      0.76      0.76    197719\n",
      "   macro avg       0.76      0.76      0.76    197719\n",
      "weighted avg       0.76      0.76      0.76    197719\n",
      "\n"
     ]
    }
   ],
   "source": [
    "from sklearn.metrics import classification_report\n",
    "print(classification_report(y_test_non_category, y_predict_non_category, target_names=['Canceled', 'Succesfull', 'Failed']))"
   ]
  },
  {
   "cell_type": "code",
   "execution_count": 0,
   "metadata": {
    "colab": {},
    "colab_type": "code",
    "id": "Q91wwWVs4_jG"
   },
   "outputs": [],
   "source": []
  },
  {
   "cell_type": "markdown",
   "metadata": {
    "colab_type": "text",
    "id": "NGsSRN6gVvD-"
   },
   "source": [
    "#examples prediction of new data\n"
   ]
  },
  {
   "cell_type": "code",
   "execution_count": 0,
   "metadata": {
    "colab": {
     "base_uri": "https://localhost:8080/",
     "height": 141
    },
    "colab_type": "code",
    "id": "lfNq55JnFFLy",
    "outputId": "de469b89-2301-4306-b05d-fe5401998cff"
   },
   "outputs": [
    {
     "name": "stdout",
     "output_type": "stream",
     "text": [
      "(6, 7)\n",
      "X=0, Predicted=[0. 1. 0.]\n",
      "X=1, Predicted=[0. 1. 0.]\n",
      "X=2, Predicted=[0. 1. 0.]\n",
      "X=3, Predicted=[0. 1. 0.]\n",
      "X=4, Predicted=[0. 1. 0.]\n",
      "X=5, Predicted=[0. 0. 1.]\n"
     ]
    }
   ],
   "source": [
    "Xnew =[[11,\t14,\t1.,\t23,\t1.00,\t\t5000.00, 34],\n",
    "      [8, 14,\t16,\t23,\t1205.00,\t1000.00,19],\n",
    "      [9,\t14,\t0,\t23,\t0.00,\t29000, 49],  \n",
    "      [9,\t6,\t761,\t10,\t57763.78,\t6469.73, 27], \n",
    "      [5,\t6,\t647,\t23,\t39693.00,\t\t25000.00,\t39], \n",
    "      [3,\t4,\t60,\t7,\t3059.73,\t8442.45,\t23]] \n",
    "from sklearn.preprocessing import MinMaxScaler\n",
    "from sklearn.preprocessing import RobustScaler\n",
    "\n",
    "Xnew = np.asarray(Xnew)\n",
    "print(Xnew.shape)\n",
    "scaler = RobustScaler()\n",
    "Xnew = scaler.fit_transform(Xnew)\n",
    "\n",
    "Xnew = Xnew.reshape(6, 7, 1)\n",
    "ynew = model_m.predict_classes(Xnew)\n",
    "ycat = to_categorical(ynew, 3)\n",
    "\n",
    "\n",
    "for i in range(len(Xnew)):\n",
    "\tprint(\"X=%s, Predicted=%s\" % ( i , ycat[i]))"
   ]
  }
 ],
 "metadata": {
  "colab": {
   "collapsed_sections": [],
   "name": "CNN WERKT.ipynb",
   "provenance": [],
   "version": "0.3.2"
  },
  "kernelspec": {
   "display_name": "Python 3",
   "language": "python",
   "name": "python3"
  },
  "language_info": {
   "codemirror_mode": {
    "name": "ipython",
    "version": 3
   },
   "file_extension": ".py",
   "mimetype": "text/x-python",
   "name": "python",
   "nbconvert_exporter": "python",
   "pygments_lexer": "ipython3",
   "version": "3.6.8"
  }
 },
 "nbformat": 4,
 "nbformat_minor": 1
}
